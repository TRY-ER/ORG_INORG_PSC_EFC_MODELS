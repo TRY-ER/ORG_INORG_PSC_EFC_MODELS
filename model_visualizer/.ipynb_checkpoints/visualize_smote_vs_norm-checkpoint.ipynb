{
 "cells": [
  {
   "cell_type": "code",
   "execution_count": 1,
   "id": "ace59ed6",
   "metadata": {},
   "outputs": [],
   "source": [
    "import pandas as pd\n",
    "import numpy as np\n",
    "import matplotlib.pyplot as plt\n",
    "import seaborn as sns"
   ]
  },
  {
   "cell_type": "code",
   "execution_count": 2,
   "id": "9c3ae0d4",
   "metadata": {},
   "outputs": [],
   "source": [
    "df = pd.read_csv(\"./comp_models/acc_comp_norm_smote.csv\")"
   ]
  },
  {
   "cell_type": "code",
   "execution_count": 3,
   "id": "95f914d6",
   "metadata": {},
   "outputs": [
    {
     "data": {
      "text/html": [
       "<div>\n",
       "<style scoped>\n",
       "    .dataframe tbody tr th:only-of-type {\n",
       "        vertical-align: middle;\n",
       "    }\n",
       "\n",
       "    .dataframe tbody tr th {\n",
       "        vertical-align: top;\n",
       "    }\n",
       "\n",
       "    .dataframe thead th {\n",
       "        text-align: right;\n",
       "    }\n",
       "</style>\n",
       "<table border=\"1\" class=\"dataframe\">\n",
       "  <thead>\n",
       "    <tr style=\"text-align: right;\">\n",
       "      <th></th>\n",
       "      <th>model_name</th>\n",
       "      <th>norm_acc</th>\n",
       "      <th>smote_acc</th>\n",
       "    </tr>\n",
       "  </thead>\n",
       "  <tbody>\n",
       "    <tr>\n",
       "      <th>0</th>\n",
       "      <td>dtc</td>\n",
       "      <td>0.68</td>\n",
       "      <td>0.76</td>\n",
       "    </tr>\n",
       "    <tr>\n",
       "      <th>1</th>\n",
       "      <td>etc</td>\n",
       "      <td>0.75</td>\n",
       "      <td>0.82</td>\n",
       "    </tr>\n",
       "    <tr>\n",
       "      <th>2</th>\n",
       "      <td>knc</td>\n",
       "      <td>0.60</td>\n",
       "      <td>0.81</td>\n",
       "    </tr>\n",
       "    <tr>\n",
       "      <th>3</th>\n",
       "      <td>lr</td>\n",
       "      <td>0.84</td>\n",
       "      <td>0.86</td>\n",
       "    </tr>\n",
       "    <tr>\n",
       "      <th>4</th>\n",
       "      <td>rfc</td>\n",
       "      <td>0.75</td>\n",
       "      <td>0.89</td>\n",
       "    </tr>\n",
       "    <tr>\n",
       "      <th>5</th>\n",
       "      <td>svc</td>\n",
       "      <td>0.82</td>\n",
       "      <td>0.89</td>\n",
       "    </tr>\n",
       "    <tr>\n",
       "      <th>6</th>\n",
       "      <td>xgbc</td>\n",
       "      <td>0.77</td>\n",
       "      <td>0.87</td>\n",
       "    </tr>\n",
       "  </tbody>\n",
       "</table>\n",
       "</div>"
      ],
      "text/plain": [
       "  model_name  norm_acc  smote_acc\n",
       "0        dtc      0.68       0.76\n",
       "1        etc      0.75       0.82\n",
       "2        knc      0.60       0.81\n",
       "3         lr      0.84       0.86\n",
       "4        rfc      0.75       0.89\n",
       "5        svc      0.82       0.89\n",
       "6       xgbc      0.77       0.87"
      ]
     },
     "execution_count": 3,
     "metadata": {},
     "output_type": "execute_result"
    }
   ],
   "source": [
    "df"
   ]
  },
  {
   "cell_type": "code",
   "execution_count": 4,
   "id": "90e73c2e",
   "metadata": {},
   "outputs": [],
   "source": [
    "model_name = [\"DicisionTreeClassifier\",\"ExtraTreeClassifier\",\"KNeighboursClassifier\",\"LogisticRegression\",\"RandomForestClassifier\",\"SeparateVectorMachine\",\"XGBoost\"]"
   ]
  },
  {
   "cell_type": "code",
   "execution_count": 5,
   "id": "a4a34705",
   "metadata": {},
   "outputs": [],
   "source": [
    "df[\"model_name\"] = model_name"
   ]
  },
  {
   "cell_type": "code",
   "execution_count": 6,
   "id": "a228d394",
   "metadata": {},
   "outputs": [],
   "source": [
    "bin_cal = [1,2,3,4,5,6,7]\n",
    "df[\"bin_cal\"] = bin_cal"
   ]
  },
  {
   "cell_type": "code",
   "execution_count": 7,
   "id": "1524674a",
   "metadata": {},
   "outputs": [
    {
     "data": {
      "text/plain": [
       "(7, 4)"
      ]
     },
     "execution_count": 7,
     "metadata": {},
     "output_type": "execute_result"
    }
   ],
   "source": [
    "df.shape"
   ]
  },
  {
   "cell_type": "code",
   "execution_count": 8,
   "id": "6d872f02",
   "metadata": {},
   "outputs": [
    {
     "data": {
      "image/png": "[encoded data removed]",
      "text/plain": [
       "<Figure size 504x432 with 1 Axes>"
      ]
     },
     "metadata": {
      "needs_background": "light"
     },
     "output_type": "display_data"
    }
   ],
   "source": [
    "fig = plt.figure(figsize=(7,6))\n",
    "plt.grid()\n",
    "for i in range(df.shape[0]):\n",
    "    plt.bar(df[\"bin_cal\"][i]-0.1,df[\"norm_acc\"][i],width=0.3,color=\"black\")\n",
    "    plt.bar(df[\"bin_cal\"][i]+0.1,df[\"smote_acc\"][i],width=0.3,color=\"purple\")\n",
    "    plt.xticks(df[\"bin_cal\"],model_name,rotation=\"vertical\")\n",
    "plt.show()"
   ]
  },
  {
   "cell_type": "code",
   "execution_count": 9,
   "id": "8f9ea2ae",
   "metadata": {},
   "outputs": [],
   "source": [
    "fig.savefig(\"real_smoted_comp.png\")"
   ]
  },
  {
   "cell_type": "code",
   "execution_count": null,
   "id": "6e7491a4",
   "metadata": {},
   "outputs": [],
   "source": []
  },
  {
   "cell_type": "code",
   "execution_count": null,
   "id": "40f7ce4f",
   "metadata": {},
   "outputs": [],
   "source": []
  }
 ],
 "metadata": {
  "kernelspec": {
   "display_name": "Python 3",
   "language": "python",
   "name": "python3"
  },
  "language_info": {
   "codemirror_mode": {
    "name": "ipython",
    "version": 3
   },
   "file_extension": ".py",
   "mimetype": "text/x-python",
   "name": "python",
   "nbconvert_exporter": "python",
   "pygments_lexer": "ipython3",
   "version": "3.7.9"
  }
 },
 "nbformat": 4,
 "nbformat_minor": 5
}
