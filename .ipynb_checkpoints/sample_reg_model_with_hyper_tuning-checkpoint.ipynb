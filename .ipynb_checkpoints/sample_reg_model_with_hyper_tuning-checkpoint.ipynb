{
 "cells": [
  {
   "cell_type": "markdown",
   "id": "50ba89e4",
   "metadata": {},
   "source": [
    "# THIS WAS THE TRIAL CODE BEFORE THE MAIN CLASSIFICATION CODE "
   ]
  },
  {
   "cell_type": "code",
   "execution_count": null,
   "id": "5ed81e8c",
   "metadata": {},
   "outputs": [],
   "source": [
    "import pandas as pd\n",
    "from sklearn.model_selection import train_test_split\n",
    "from sklearn.metrics import accuracy_score,mean_squared_error,r2_score\n",
    "import optuna\n",
    "from sklearn import svm\n",
    "from sklearn.linear_model import LinearRegression, SGDRegressor, BayesianRidge\n",
    "from lightgbm import LGBMRegressor\n",
    "from xgboost.sklearn import XGBRegressor\n",
    "from catboost import CatBoostRegressor\n",
    "from sklearn.kernel_ridge import KernelRidge\n",
    "from sklearn.ensemble import GradientBoostingRegressor\n",
    "import os"
   ]
  },
  {
   "cell_type": "code",
   "execution_count": 27,
   "id": "33d96781",
   "metadata": {},
   "outputs": [],
   "source": [
    "models = [svm.SVR,LinearRegression,SGDRegressor,BayesianRidge,LGBMRegressor,XGBRegressor,CatBoostRegressor,KernelRidge,GradientBoostingRegressor]"
   ]
  },
  {
   "cell_type": "code",
   "execution_count": 28,
   "id": "b1e3ae37",
   "metadata": {},
   "outputs": [
    {
     "name": "stdout",
     "output_type": "stream",
     "text": [
      "<class 'sklearn.linear_model._base.LinearRegression'>\n"
     ]
    }
   ],
   "source": [
    "print(str(LinearRegression))"
   ]
  },
  {
   "cell_type": "code",
   "execution_count": null,
   "id": "9e46e806",
   "metadata": {},
   "outputs": [],
   "source": [
    "def execute_model(model):\n",
    "    if model == svm.SVR:\n",
    "        print(\"----------------------------------------------\")\n",
    "        model = model(C=trial.suggest_int('C',1,4),\n",
    "              epsilon=trial.suggest_float(\"epsilon\",0.1,0.5,0.1)).fit(train_x,train_y)\n",
    "        print(f\"model:{str(model)}\")\n",
    "        pred_y = model.predict(val_x)\n",
    "        mse = mean_squared_error(val_y,pred_y)\n",
    "        r2Score = r2_score(val_y,pred_y)\n",
    "        print(f\"mean_squared_error: {mse}\")\n",
    "        print(f\"r_2_score{r2Score}\")\n",
    "        try:\n",
    "            joblib.dump(model,f'./serializer_object/models/{val}/SVR_raw_model.pkl')\n",
    "            print(\"[+] SVR MODEL SAVED\")\n",
    "        except:\n",
    "            print(\"[-] CANNOT SAVE THE MODEL\")\n",
    "        print(\"----------------------------------------------\")\n",
    "    elif model == LinearRegression:\n",
    "        print(\"----------------------------------------------\")\n",
    "        model = model(n_jobs=3).fit(train_x,train_y)\n",
    "        print(f\"model:{str(model)}\")\n",
    "        pred_y = model.predict(val_x)\n",
    "        mse = mean_squared_error(val_y,pred_y)\n",
    "        r2Score = r2_score(val_y,pred_y)\n",
    "        print(f\"mean_squared_error: {mse}\")\n",
    "        print(f\"r_2_score{r2Score}\")\n",
    "        try:\n",
    "            joblib.dump(model,f'./serializer_object/models/{val}/Linear_regression_raw_model.pkl')\n",
    "            print(\"[+] Linear Regression MODEL SAVED\")\n",
    "        except:\n",
    "            print(\"[-] CANNOT SAVE THE MODEL\")\n",
    "        print(\"----------------------------------------------\")\n",
    "    elif model == SGDRegressor:\n",
    "        print(\"----------------------------------------------\")\n",
    "        model = model(max_iter=trial.suggest_int('max_iter',500,1500,500),\n",
    "              epsilon=trial.suggest_float(\"epsilon\",0.1,0.5,0.1),\n",
    "              learning_rate=trial.suggest_categorical('lr',[\"constant\",\"optimal\",\"invscaling\",\"adaptive\"])).fit(train_x,train_y)\n",
    "        print(f\"model:{str(model)}\")\n",
    "        pred_y = model.predict(val_x)\n",
    "        mse = mean_squared_error(val_y,pred_y)\n",
    "        r2Score = r2_score(val_y,pred_y)\n",
    "        print(f\"mean_squared_error: {mse}\")\n",
    "        print(f\"r_2_score{r2Score}\")\n",
    "        try:\n",
    "            joblib.dump(model,f'./serializer_object/models/{val}/SGDRegressor_raw_model.pkl')\n",
    "            print(\"[+] SGDRegressor MODEL SAVED\")\n",
    "        except:\n",
    "            print(\"[-] CANNOT SAVE THE MODEL\")\n",
    "        print(\"----------------------------------------------\")\n",
    "    elif model == BayesianRidge:\n",
    "        print(\"----------------------------------------------\")\n",
    "        model = model(n_iter=trial.suggest_int('n_iter',300,900,300)).fit(train_x,train_y)\n",
    "        print(f\"model:{str(model)}\")\n",
    "        pred_y = model.predict(val_x)\n",
    "        mse = mean_squared_error(val_y,pred_y)\n",
    "        r2Score = r2_score(val_y,pred_y)\n",
    "        print(f\"mean_squared_error: {mse}\")\n",
    "        print(f\"r_2_score{r2Score}\")\n",
    "        try:\n",
    "            joblib.dump(model,f'./serializer_object/models/{val}/BayesianRidge_raw_model.pkl')\n",
    "            print(\"[+] BayesianRidge MODEL SAVED\")\n",
    "        except:\n",
    "            print(\"[-] CANNOT SAVE THE MODEL\")\n",
    "        print(\"----------------------------------------------\")\n",
    "    elif model == LGBMRegressor:\n",
    "        print(\"----------------------------------------------\")\n",
    "        model = model(n_jobs=3,\n",
    "              boosting_type=trial.suggest_categorical(\"boost\",[\"gbdt\",\"dart\",\"goss\"]),\n",
    "              learning_rate=trial.suggest_catgorical('lr',[0.1,0.01,0.001]),\n",
    "              n_estimators=trial.suggest_categorical('n_estimators',[100,150,200,300])).fit(train_x,train_y)\n",
    "        print(f\"model:{str(model)}\")\n",
    "        pred_y = model.predict(val_x)\n",
    "        mse = mean_squared_error(val_y,pred_y)\n",
    "        r2Score = r2_score(val_y,pred_y)\n",
    "        print(f\"mean_squared_error: {mse}\")\n",
    "        print(f\"r_2_score{r2Score}\")\n",
    "        try:\n",
    "            joblib.dump(model,f'./serializer_object/models/{val}/LGBMRegressor_raw_model.pkl')\n",
    "            print(\"[+] LGBMRegressor MODEL SAVED\")\n",
    "        except:\n",
    "            print(\"[-] CANNOT SAVE THE MODEL\")\n",
    "        print(\"----------------------------------------------\")\n",
    "    elif model == XGBRegressor:\n",
    "        print(\"----------------------------------------------\")\n",
    "        model = model(n_estimators=trial.suggest_categorical('n_estimators',[100,200,300]),\n",
    "              learning_rate=trial.suggest_catgorical('lr',[0.1,0.01,0.001])).fit(train_x,train_y)\n",
    "        print(f\"model:{str(model)}\")\n",
    "        pred_y = model.predict(val_x)\n",
    "        mse = mean_squared_error(val_y,pred_y)\n",
    "        r2Score = r2_score(val_y,pred_y)\n",
    "        print(f\"mean_squared_error: {mse}\")\n",
    "        print(f\"r_2_score{r2Score}\")\n",
    "        try:\n",
    "            joblib.dump(model,f'./serializer_object/models/{val}/XGBRegressor_raw_model.pkl')\n",
    "            print(\"[+] XGBRegressor MODEL SAVED\")\n",
    "        except:\n",
    "            print(\"[-] CANNOT SAVE THE MODEL\")\n",
    "        print(\"----------------------------------------------\")\n",
    "    elif model == CatBoostRegressor:\n",
    "        print(\"----------------------------------------------\")\n",
    "        model = model(iterations=trial.suggest_categorical('iter',[100,200,300]),\n",
    "              learning_rate=trial.suggest_catgorical('lr',[0.1,0.01,0.001])).fit(train_x,train_y)\n",
    "        print(f\"model:{str(model)}\")\n",
    "        pred_y = model.predict(val_x)\n",
    "        mse = mean_squared_error(val_y,pred_y)\n",
    "        r2Score = r2_score(val_y,pred_y)\n",
    "        print(f\"mean_squared_error: {mse}\")\n",
    "        print(f\"r_2_score{r2Score}\")\n",
    "        try:\n",
    "            joblib.dump(model,f'./serializer_object/models/{val}/CatBoostRegressor_raw_model.pkl')\n",
    "            print(\"[+] CatBoostRegressor MODEL SAVED\")\n",
    "        except:\n",
    "            print(\"[-] CANNOT SAVE THE MODEL\")\n",
    "        print(\"----------------------------------------------\")\n",
    "    elif model == KernelRidge:\n",
    "        print(\"----------------------------------------------\")\n",
    "        model = model(alpha=trial.suggest_categorical('alpha',[1,0.5,2])).fit(train_x,train_y)\n",
    "        print(f\"model:{str(model)}\")\n",
    "        pred_y = model.predict(val_x)\n",
    "        mse = mean_squared_error(val_y,pred_y)\n",
    "        r2Score = r2_score(val_y,pred_y)\n",
    "        print(f\"mean_squared_error: {mse}\")\n",
    "        print(f\"r_2_score{r2Score}\")\n",
    "        try:\n",
    "            joblib.dump(model,f'./serializer_object/models/{val}/KernelRidge_raw_model.pkl')\n",
    "            print(\"[+] KernelRidge MODEL SAVED\")\n",
    "        except:\n",
    "            print(\"[-] CANNOT SAVE THE MODEL\")\n",
    "        print(\"----------------------------------------------\")\n",
    "    elif model == GradientBoostingRegressor:\n",
    "        print(\"----------------------------------------------\")\n",
    "        model = model(loss=trial.suggest_categorical(\"loss\",[\"squared_error\",\"absolute_error\",\"huber\",\"quantile\"]),\n",
    "              learning_rate=trial.suggest_catgorical('lr',[0.1,0.01,0.001]),\n",
    "              n_estimators=trial.suggest_categorical('n_estimators',[100,200,300,50]),\n",
    "              criterion=trial.suggest_categorical('criterion',[\"friedman_mse\",\"squared_error\",\"mse\",\"mae\"])).fit(train_x,train_y)\n",
    "        print(f\"model:{str(model)}\")\n",
    "        pred_y = model.predict(val_x)\n",
    "        mse = mean_squared_error(val_y,pred_y)\n",
    "        r2Score = r2_score(val_y,pred_y)\n",
    "        print(f\"mean_squared_error: {mse}\")\n",
    "        print(f\"r_2_score{r2Score}\")\n",
    "        try:\n",
    "            joblib.dump(model,f'./serializer_object/models/{val}/GradientBoostingRegressor_raw_model.pkl')\n",
    "            print(\"[+] GradientBoostingRegressor MODEL SAVED\")\n",
    "        except:\n",
    "            print(\"[-] CANNOT SAVE THE MODEL\")\n",
    "        print(\"----------------------------------------------\")"
   ]
  },
  {
   "cell_type": "code",
   "execution_count": 151,
   "id": "a0fd49f4",
   "metadata": {},
   "outputs": [],
   "source": [
    "def objective(trial):\n"
   ]
  },
  {
   "cell_type": "code",
   "execution_count": 152,
   "id": "692a749a",
   "metadata": {},
   "outputs": [],
   "source": [
    "model_names = [\"svm.SVR\",\"LinearRegression\",\"SGDRegressor\",\"BayesianRidge\",\"LGBMRegressor\",\"XGBRegressor\",\"CatBoostRegressor\",\"KernelRidge\",\"GradientBoostingRegressor\"]"
   ]
  },
  {
   "cell_type": "code",
   "execution_count": 153,
   "id": "fd0e75d1",
   "metadata": {},
   "outputs": [],
   "source": [
    "def optimizer(model_list,model_names,val,train_x,train_y,val_x,val_y):\n",
    "    for model,model_name in zip(model_list,model_names):\n",
    "        try:\n",
    "            os.mkdir(f'./serializer_object/models/{val}')\n",
    "        except FileExistsError:\n",
    "            pass\n",
    "        print(\"_________________________________________________\")\n",
    "        print(f\"[+] STARTING OPTIMIZATION FOR {model_name} MODEL\")\n",
    "        study = optuna.create_study(direction=\"maximize\")\n",
    "        study.optimize(objective,n_trials=100)\n",
    "        best = study.best_trial\n",
    "        print(f\"best_value:{best.value}\")\n",
    "        print(\"PARAMETERS::::::-------\")\n",
    "        for key,value in best.params.items():\n",
    "            print(f\"{key} : {value}\")\n",
    "        print(f\"[+] ENDED ANALYSIS OF {model_name} MODEL\")\n",
    "        print(\"_________________________________________________\")"
   ]
  },
  {
   "cell_type": "code",
   "execution_count": 154,
   "id": "3d87fa5d",
   "metadata": {},
   "outputs": [],
   "source": [
    "usable_df = pd.read_csv(\"usable_df.csv\")"
   ]
  },
  {
   "cell_type": "code",
   "execution_count": 155,
   "id": "cece2243",
   "metadata": {},
   "outputs": [
    {
     "data": {
      "text/plain": [
       "(51, 29)"
      ]
     },
     "execution_count": 155,
     "metadata": {},
     "output_type": "execute_result"
    }
   ],
   "source": [
    "usable_df.shape"
   ]
  },
  {
   "cell_type": "code",
   "execution_count": 156,
   "id": "36785a82",
   "metadata": {},
   "outputs": [],
   "source": [
    "main_df = pd.read_csv(\"main_df_categorical_scaled.csv\")"
   ]
  },
  {
   "cell_type": "code",
   "execution_count": 157,
   "id": "ce8851c4",
   "metadata": {},
   "outputs": [],
   "source": [
    "main_df['target'] = usable_df[\"Voc (V)\"]"
   ]
  },
  {
   "cell_type": "code",
   "execution_count": 158,
   "id": "f03f7ae5",
   "metadata": {},
   "outputs": [],
   "source": [
    "y = main_df['target']"
   ]
  },
  {
   "cell_type": "code",
   "execution_count": 159,
   "id": "3f56d479",
   "metadata": {},
   "outputs": [],
   "source": [
    "main_df = main_df.drop(['target'],axis=1)"
   ]
  },
  {
   "cell_type": "code",
   "execution_count": 160,
   "id": "05963dc6",
   "metadata": {},
   "outputs": [
    {
     "data": {
      "text/html": [
       "<div>\n",
       "<style scoped>\n",
       "    .dataframe tbody tr th:only-of-type {\n",
       "        vertical-align: middle;\n",
       "    }\n",
       "\n",
       "    .dataframe tbody tr th {\n",
       "        vertical-align: top;\n",
       "    }\n",
       "\n",
       "    .dataframe thead th {\n",
       "        text-align: right;\n",
       "    }\n",
       "</style>\n",
       "<table border=\"1\" class=\"dataframe\">\n",
       "  <thead>\n",
       "    <tr style=\"text-align: right;\">\n",
       "      <th></th>\n",
       "      <th>Device size type</th>\n",
       "      <th>Transparent conductive oxide type</th>\n",
       "      <th>Electron transport layer type</th>\n",
       "      <th>Perovskite composition</th>\n",
       "      <th>Perovskite chemistry type</th>\n",
       "      <th>Perovksite depostion method</th>\n",
       "      <th>Hole transport layer type</th>\n",
       "      <th>Conductive electrode layer</th>\n",
       "      <th>Device structure</th>\n",
       "    </tr>\n",
       "  </thead>\n",
       "  <tbody>\n",
       "    <tr>\n",
       "      <th>0</th>\n",
       "      <td>0.102418</td>\n",
       "      <td>-0.836660</td>\n",
       "      <td>1.357708</td>\n",
       "      <td>1.208010</td>\n",
       "      <td>1.377014</td>\n",
       "      <td>0.255488</td>\n",
       "      <td>0.447900</td>\n",
       "      <td>-0.167468</td>\n",
       "      <td>-0.572822</td>\n",
       "    </tr>\n",
       "    <tr>\n",
       "      <th>1</th>\n",
       "      <td>0.102418</td>\n",
       "      <td>-0.836660</td>\n",
       "      <td>1.357708</td>\n",
       "      <td>-1.851316</td>\n",
       "      <td>1.377014</td>\n",
       "      <td>-1.047501</td>\n",
       "      <td>-1.183735</td>\n",
       "      <td>4.102969</td>\n",
       "      <td>-0.572822</td>\n",
       "    </tr>\n",
       "    <tr>\n",
       "      <th>2</th>\n",
       "      <td>-1.638693</td>\n",
       "      <td>-0.836660</td>\n",
       "      <td>-1.245417</td>\n",
       "      <td>1.208010</td>\n",
       "      <td>1.377014</td>\n",
       "      <td>0.255488</td>\n",
       "      <td>-2.815369</td>\n",
       "      <td>-1.235077</td>\n",
       "      <td>-1.963961</td>\n",
       "    </tr>\n",
       "    <tr>\n",
       "      <th>3</th>\n",
       "      <td>-1.638693</td>\n",
       "      <td>-0.836660</td>\n",
       "      <td>1.357708</td>\n",
       "      <td>0.153070</td>\n",
       "      <td>-1.072790</td>\n",
       "      <td>0.255488</td>\n",
       "      <td>0.447900</td>\n",
       "      <td>-0.167468</td>\n",
       "      <td>-0.572822</td>\n",
       "    </tr>\n",
       "    <tr>\n",
       "      <th>4</th>\n",
       "      <td>0.102418</td>\n",
       "      <td>1.195229</td>\n",
       "      <td>-0.724792</td>\n",
       "      <td>-0.796376</td>\n",
       "      <td>-1.072790</td>\n",
       "      <td>0.255488</td>\n",
       "      <td>0.447900</td>\n",
       "      <td>-0.167468</td>\n",
       "      <td>0.818317</td>\n",
       "    </tr>\n",
       "  </tbody>\n",
       "</table>\n",
       "</div>"
      ],
      "text/plain": [
       "   Device size type  Transparent conductive oxide type  \\\n",
       "0          0.102418                          -0.836660   \n",
       "1          0.102418                          -0.836660   \n",
       "2         -1.638693                          -0.836660   \n",
       "3         -1.638693                          -0.836660   \n",
       "4          0.102418                           1.195229   \n",
       "\n",
       "   Electron transport layer type  Perovskite composition  \\\n",
       "0                       1.357708                1.208010   \n",
       "1                       1.357708               -1.851316   \n",
       "2                      -1.245417                1.208010   \n",
       "3                       1.357708                0.153070   \n",
       "4                      -0.724792               -0.796376   \n",
       "\n",
       "   Perovskite chemistry type  Perovksite depostion method  \\\n",
       "0                   1.377014                     0.255488   \n",
       "1                   1.377014                    -1.047501   \n",
       "2                   1.377014                     0.255488   \n",
       "3                  -1.072790                     0.255488   \n",
       "4                  -1.072790                     0.255488   \n",
       "\n",
       "   Hole transport layer type  Conductive electrode layer  Device structure  \n",
       "0                   0.447900                   -0.167468         -0.572822  \n",
       "1                  -1.183735                    4.102969         -0.572822  \n",
       "2                  -2.815369                   -1.235077         -1.963961  \n",
       "3                   0.447900                   -0.167468         -0.572822  \n",
       "4                   0.447900                   -0.167468          0.818317  "
      ]
     },
     "execution_count": 160,
     "metadata": {},
     "output_type": "execute_result"
    }
   ],
   "source": [
    "main_df.head()"
   ]
  },
  {
   "cell_type": "code",
   "execution_count": 161,
   "id": "c57edefe",
   "metadata": {},
   "outputs": [],
   "source": [
    "train_x,val_x,train_y,val_y = train_test_split(main_df,y,test_size=0.1)"
   ]
  },
  {
   "cell_type": "code",
   "execution_count": null,
   "id": "c12ea530",
   "metadata": {},
   "outputs": [],
   "source": []
  },
  {
   "cell_type": "code",
   "execution_count": 169,
   "id": "f1eea770",
   "metadata": {},
   "outputs": [
    {
     "name": "stdout",
     "output_type": "stream",
     "text": [
      "----------------------------------------------\n",
      "[LibSVM]model:SVR(C=4, verbose=2)\n",
      "mean_squared_error: 53.77380054630419\n",
      "r_2_score-0.21718645352169164\n",
      "[-] CANNOT SAVE THE MODEL\n",
      "----------------------------------------------\n"
     ]
    }
   ],
   "source": [
    "model = svm.SVR\n",
    "print(\"----------------------------------------------\")\n",
    "model = model(C=4,\n",
    "      epsilon=0.1,verbose=2).fit(train_x,train_y)\n",
    "print(f\"model:{str(model)}\")\n",
    "pred_y = model.predict(val_x)\n",
    "mse = mean_squared_error(val_y,pred_y)\n",
    "r2Score = r2_score(val_y,pred_y)\n",
    "print(f\"mean_squared_error: {mse}\")\n",
    "print(f\"r_2_score{r2Score}\")\n",
    "try:\n",
    "    joblib.dump(model,f'./serializer_object/models/{val}/SVR_raw_model.pkl')\n",
    "    print(\"[+] SVR MODEL SAVED\")\n",
    "except:\n",
    "    print(\"[-] CANNOT SAVE THE MODEL\")\n",
    "print(\"----------------------------------------------\")"
   ]
  },
  {
   "cell_type": "code",
   "execution_count": null,
   "id": "3420e6f6",
   "metadata": {},
   "outputs": [],
   "source": []
  }
 ],
 "metadata": {
  "kernelspec": {
   "display_name": "Python 3",
   "language": "python",
   "name": "python3"
  },
  "language_info": {
   "codemirror_mode": {
    "name": "ipython",
    "version": 3
   },
   "file_extension": ".py",
   "mimetype": "text/x-python",
   "name": "python",
   "nbconvert_exporter": "python",
   "pygments_lexer": "ipython3",
   "version": "3.7.9"
  }
 },
 "nbformat": 4,
 "nbformat_minor": 5
}
